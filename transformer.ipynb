{
 "cells": [
  {
   "cell_type": "code",
   "execution_count": 1,
   "id": "c49d6797",
   "metadata": {},
   "outputs": [],
   "source": [
    "import torch\n",
    "from torch import nn\n",
    "from torch.nn import functional as F\n",
    "import math"
   ]
  },
  {
   "cell_type": "code",
   "execution_count": 7,
   "id": "742e3c12",
   "metadata": {},
   "outputs": [],
   "source": [
    "class TokenEmbedding(nn.Embedding):\n",
    "    def __init__(self,vacab_size,d_model):\n",
    "        super().__init__(vacab_size,d_model,padding_idx=1)"
   ]
  },
  {
   "cell_type": "code",
   "execution_count": 8,
   "id": "0f39c1bf",
   "metadata": {},
   "outputs": [],
   "source": [
    "class PositionalEmbedding(nn.Module):\n",
    "    def __init__(self,d_model,max_len,device):\n",
    "        super().__init__()\n",
    "        self.encoding=torch.zeros(max_len,d_model,deivice=device)\n",
    "        self.encoding.requires_grad=False\n",
    "        pos=torch.arrange(0,max_len,device=device)\n",
    "        pos=pos.float().unsqueeze(dim=1)\n",
    "        _2i=torch.arrange(0,d_model,step=2,device=device).float()\n",
    "        self.encoding[:,0::2]=torch.sin(pos/(10000**(_2i/d_model)))\n",
    "        self.encoding[:,1::2]=torch.cos(pos/(10000**(_2i/d_model)))\n",
    "    def forward(self,x):\n",
    "        batch_size,seq_len=x.size()\n",
    "        return self.encoding[:seq_len,:]"
   ]
  },
  {
   "cell_type": "code",
   "execution_count": 9,
   "id": "9df906fa",
   "metadata": {},
   "outputs": [],
   "source": [
    "class TransformerEmbedding(nn.Module):\n",
    "    def __init__(self,vacab_size,d_model,max_len,dropout,device):\n",
    "        super().__init__()\n",
    "        self.token_embedding=TokenEmbedding(vacab_size,d_model)\n",
    "        self.position_embedding=PositionalEmbedding(d_model,max_len,device)\n",
    "        self.dropout=nn.Dropout(p=dropout)\n",
    "        self.d_model=d_model\n",
    "    def forward(self,x):\n",
    "        tok_emb=self.token_embedding(x)\n",
    "        pos_emb=self.position_embedding(x)\n",
    "        return self.dropout(tok_emb+pos_emb)"
   ]
  }
 ],
 "metadata": {
  "kernelspec": {
   "display_name": "reid",
   "language": "python",
   "name": "python3"
  },
  "language_info": {
   "codemirror_mode": {
    "name": "ipython",
    "version": 3
   },
   "file_extension": ".py",
   "mimetype": "text/x-python",
   "name": "python",
   "nbconvert_exporter": "python",
   "pygments_lexer": "ipython3",
   "version": "3.13.5"
  }
 },
 "nbformat": 4,
 "nbformat_minor": 5
}
