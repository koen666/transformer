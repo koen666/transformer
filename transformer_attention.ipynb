{
 "cells": [
  {
   "cell_type": "code",
   "execution_count": 4,
   "id": "c33a057b",
   "metadata": {},
   "outputs": [],
   "source": [
    "import torch\n",
    "from torch import nn\n",
    "import math"
   ]
  },
  {
   "cell_type": "code",
   "execution_count": null,
   "id": "a960817d",
   "metadata": {},
   "outputs": [
    {
     "name": "stdout",
     "output_type": "stream",
     "text": [
      "tensor([[[-0.6386, -0.9859, -1.7846, -0.9976],\n",
      "         [-0.8222,  0.7146,  0.8686, -0.0655],\n",
      "         [ 0.2177, -1.8170,  1.3107,  0.0509]],\n",
      "\n",
      "        [[ 2.5254, -0.2969, -0.1884, -0.6320],\n",
      "         [ 1.6079, -0.2558, -0.0389,  1.1212],\n",
      "         [-1.2021,  0.7071, -1.4883,  0.5893]]])\n",
      "原始形状: torch.Size([2, 3, 4])\n",
      "tensor([[[-0.6386, -0.8222,  0.2177],\n",
      "         [-0.9859,  0.7146, -1.8170],\n",
      "         [-1.7846,  0.8686,  1.3107],\n",
      "         [-0.9976, -0.0655,  0.0509]],\n",
      "\n",
      "        [[ 2.5254,  1.6079, -1.2021],\n",
      "         [-0.2969, -0.2558,  0.7071],\n",
      "         [-0.1884, -0.0389, -1.4883],\n",
      "         [-0.6320,  1.1212,  0.5893]]])\n",
      "permute(0, 2, 1)后形状: torch.Size([2, 4, 3])\n",
      "tensor([[[-0.6386,  2.5254],\n",
      "         [-0.8222,  1.6079],\n",
      "         [ 0.2177, -1.2021]],\n",
      "\n",
      "        [[-0.9859, -0.2969],\n",
      "         [ 0.7146, -0.2558],\n",
      "         [-1.8170,  0.7071]],\n",
      "\n",
      "        [[-1.7846, -0.1884],\n",
      "         [ 0.8686, -0.0389],\n",
      "         [ 1.3107, -1.4883]],\n",
      "\n",
      "        [[-0.9976, -0.6320],\n",
      "         [-0.0655,  1.1212],\n",
      "         [ 0.0509,  0.5893]]])\n",
      "permute(2, 1, 0)后形状: torch.Size([4, 3, 2])\n"
     ]
    }
   ],
   "source": [
    "x=torch.rand(128,32,512)\n",
    "print(x)"
   ]
  },
  {
   "cell_type": "code",
   "execution_count": null,
   "id": "d88a475f",
   "metadata": {},
   "outputs": [],
   "source": [
    "class MultiHeadAttention(nn.Module):\n",
    "    def __init__(self, d_model, n_head):\n",
    "        super().__init__()\n",
    "        self.d_model = d_model\n",
    "        self.n_head = n_head\n",
    "        self.w_q = nn.Linear(d_model, d_model)\n",
    "        self.w_k = nn.Linear(d_model, d_model)\n",
    "        self.w_v = nn.Linear(d_model, d_model)\n",
    "        self.w_combine = nn.Linear(d_model, d_model)\n",
    "        self.softmax = nn.Softmax(dim=-1)\n",
    "\n",
    "    def forward(self, q, k, v, mask=None):\n",
    "        batch, time, dimension = q.shape\n",
    "        head_d = self.d_model // self.n_head\n",
    "        q, k, v = self.w_q(q), self.w_k(k), self.w_v(v)\n",
    "        q = q.view(batch, time, self.n_head, head_d).permute(0, 2, 1, 3)\n",
    "        k = k.view(batch, time, self.n_head, head_d).permute(0, 2, 1, 3)\n",
    "        v = v.view(batch, time, self.n_head, head_d).permute(0, 2, 1, 3)\n",
    "        score = q @ k.transpose(2, 3) / math.sqrt(head_d)\n",
    "        if mask is not None:\n",
    "            score = score.masked_fill(mask == 0, -10000)\n",
    "        score = self.softmax(score) @ v\n",
    "        score = score.permute(0, 2, 1, 3).contiguous().view(batch, time, dimension)\n",
    "        out = self.w_combine(score)\n",
    "        return out\n"
   ]
  }
 ],
 "metadata": {
  "kernelspec": {
   "display_name": "reid",
   "language": "python",
   "name": "python3"
  },
  "language_info": {
   "codemirror_mode": {
    "name": "ipython",
    "version": 3
   },
   "file_extension": ".py",
   "mimetype": "text/x-python",
   "name": "python",
   "nbconvert_exporter": "python",
   "pygments_lexer": "ipython3",
   "version": "3.13.5"
  }
 },
 "nbformat": 4,
 "nbformat_minor": 5
}
